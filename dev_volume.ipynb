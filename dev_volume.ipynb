{
 "cells": [
  {
   "cell_type": "code",
   "execution_count": 1,
   "source": [
    "%matplotlib qt\r\n",
    "\r\n",
    "import scipy.io\r\n",
    "import numpy as np\r\n",
    "import pyqtgraph as pg\r\n",
    "import pyqtgraph.opengl as gl\r\n",
    "from pyqtgraph import functions as fn\r\n",
    "import matplotlib.pyplot as plt"
   ],
   "outputs": [],
   "metadata": {}
  },
  {
   "cell_type": "code",
   "execution_count": 2,
   "source": [
    "# data = scipy.io.loadmat(\"Tomo.mat\")[\"RI\"]\r\n",
    "# data = scipy.io.loadmat(\"phantom.mat\")[\"RI\"]\r\n",
    "# yyy, xxx, zzz = data.shape\r\n",
    "# data = data[yyy//2-120:yyy//2+120, xxx//2-120:xxx//2+120, zzz//2-120:zzz//2+120]\r\n",
    "# np.save(\"data.npy\", data)\r\n",
    "data = np.load(\"data.npy\")\r\n",
    "print(data.shape)\r\n",
    "print(data.max())\r\n",
    "print(data.min())\r\n",
    "\r\n",
    "# yyy, xxx, zzz = data.shape\r\n",
    "# X = np.arange(-xxx//2, xxx//2, 1)\r\n",
    "# Y = np.arange(-yyy//2, yyy//2, 1)\r\n",
    "# X, Y = np.meshgrid(X, Y)\r\n",
    "\r\n",
    "# ax3d = plt.axes(projection='3d')\r\n",
    "# ax3d.plot_surface(X, Y, data[:, :, 100])\r\n",
    "# plt.show()"
   ],
   "outputs": [
    {
     "output_type": "stream",
     "name": "stdout",
     "text": [
      "(240, 240, 240)\n",
      "1.516700029373169\n",
      "1.4878000020980835\n"
     ]
    }
   ],
   "metadata": {}
  },
  {
   "cell_type": "code",
   "execution_count": 5,
   "source": [
    "data = -data\r\n",
    "\r\n",
    "# data = np.fromfunction(psi, (100,100,200))\r\n",
    "with np.errstate(divide = 'ignore'):\r\n",
    "    positive = np.log(fn.clip_array(data, 0, data.max())**2)\r\n",
    "    negative = np.log(fn.clip_array(-data, 0, -data.min())**2)\r\n",
    "\r\n",
    "d2 = np.empty(data.shape + (4,), dtype=np.ubyte)\r\n",
    "d2[..., 0] = positive * (255./positive.max())\r\n",
    "d2[..., 1] = negative * (255./negative.max())\r\n",
    "d2[..., 2] = d2[...,1]\r\n",
    "d2[..., 3] = d2[..., 0]*0.2 + d2[..., 1]*0.3\r\n",
    "d2[..., 3] = (d2[..., 3].astype(float) / 255.) **2 * 255\r\n",
    "\r\n",
    "d2[:, 0, 0] = [255,0,0,100]\r\n",
    "d2[0, :, 0] = [0,255,0,100]\r\n",
    "d2[0, 0, :] = [0,0,255,100]\r\n",
    "\r\n",
    "np.save(\"data3d.npy\", d2)"
   ],
   "outputs": [
    {
     "output_type": "stream",
     "name": "stderr",
     "text": [
      "C:\\Anaconda3\\envs\\dht\\lib\\site-packages\\ipykernel_launcher.py:9: RuntimeWarning: invalid value encountered in multiply\n",
      "  if __name__ == '__main__':\n"
     ]
    }
   ],
   "metadata": {}
  },
  {
   "cell_type": "code",
   "execution_count": 6,
   "source": [],
   "outputs": [],
   "metadata": {}
  },
  {
   "cell_type": "code",
   "execution_count": null,
   "source": [],
   "outputs": [],
   "metadata": {}
  }
 ],
 "metadata": {
  "orig_nbformat": 4,
  "language_info": {
   "name": "python",
   "version": "3.7.10",
   "mimetype": "text/x-python",
   "codemirror_mode": {
    "name": "ipython",
    "version": 3
   },
   "pygments_lexer": "ipython3",
   "nbconvert_exporter": "python",
   "file_extension": ".py"
  },
  "kernelspec": {
   "name": "python3",
   "display_name": "Python 3.7.10 64-bit ('dht': conda)"
  },
  "interpreter": {
   "hash": "931df0d254fee4a09fe7953bde12a8fea4a6a755f1633ccd4d47c0799c7a9e99"
  }
 },
 "nbformat": 4,
 "nbformat_minor": 2
}