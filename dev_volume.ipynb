{
 "cells": [
  {
   "cell_type": "code",
   "execution_count": 283,
   "source": [
    "%matplotlib qt\r\n",
    "\r\n",
    "import scipy.io\r\n",
    "import numpy as np\r\n",
    "import pyqtgraph as pg\r\n",
    "import pyqtgraph.opengl as gl\r\n",
    "from pyqtgraph import functions as fn\r\n",
    "import matplotlib.pyplot as plt\r\n",
    "from skimage import exposure\r\n",
    "from scipy.ndimage import zoom"
   ],
   "outputs": [],
   "metadata": {}
  },
  {
   "cell_type": "code",
   "execution_count": 284,
   "source": [
    "\r\n",
    "data = scipy.io.loadmat(\"Tomo.mat\")[\"RI\"]\r\n",
    "# data = zoom(data, (0.5, 0.5, 0.5))\r\n",
    "# np.save(\"data2.npy\", data)\r\n",
    "data = np.load(\"data2.npy\")\r\n"
   ],
   "outputs": [],
   "metadata": {}
  },
  {
   "cell_type": "code",
   "execution_count": null,
   "source": [
    "\r\n",
    "# data = scipy.io.loadmat(\"phantom.mat\")[\"RI\"]\r\n",
    "# yyy, xxx, zzz = data.shape\r\n",
    "# data = data[yyy//2-150:yyy//2+150, xxx//2-120:xxx//2+120, zzz//2-50:zzz//2+120]\r\n",
    "# np.save(\"data.npy\", data)\r\n",
    "# data = np.load(\"data.npy\")\r\n"
   ],
   "outputs": [],
   "metadata": {}
  },
  {
   "cell_type": "code",
   "execution_count": 350,
   "source": [
    "\r\n",
    "# a = np.unique( data )\r\n",
    "# print(a)\r\n",
    "\r\n",
    "\r\n",
    "plt.figure(1)\r\n",
    "plt.imshow(data[:,:,125])\r\n",
    "plt.colorbar()\r\n",
    "plt.show()\r\n",
    "print(data.shape)\r\n",
    "print(data.max())\r\n",
    "print(data.min())\r\n",
    "\r\n",
    "# plt.figure(2)\r\n",
    "# plt.plot(data[150, :, 85])\r\n",
    "# plt.show()\r\n",
    "\r\n",
    "plt.figure(3)\r\n",
    "im = data.copy()\r\n",
    "img_hist, bins = np.histogram(im)\r\n",
    "print(bins)\r\n",
    "print(img_hist)\r\n",
    "print(img_hist.max())\r\n",
    "print(bins[np.argmax(img_hist)])\r\n",
    "plt.plot(bins[1:], img_hist)\r\n",
    "# plt.plot(bins, img_hist / img_hist.max())\r\n",
    "# plt.xlim([0,1])\r\n",
    "plt.show()\r\n",
    "print(im.max())\r\n",
    "print(im.min())\r\n",
    "th = np.round((bins[np.argmax(img_hist)] + bins[np.argmax(img_hist)+1])/2,2)\r\n",
    "print(th)\r\n",
    "im[im <= th] = 0\r\n",
    "\r\n",
    "# yyy, xxx, zzz = data.shape\r\n",
    "# X = np.arange(-xxx//2, xxx//2, 1)\r\n",
    "# Y = np.arange(-yyy//2, yyy//2, 1)\r\n",
    "# X, Y = np.meshgrid(X, Y)\r\n",
    "\r\n",
    "# ax3d = plt.axes(projection='3d')\r\n",
    "# ax3d.plot_surface(X, Y, data[:, :, 100])\r\n",
    "# plt.show()\r\n",
    "\r\n",
    "# plt.figure(4)\r\n",
    "# data[data<1.488] = 0\r\n",
    "# im = data.copy()\r\n",
    "# im = (im - im.min()) / (im.max()-im.min())\r\n",
    "# img_hist, bins = exposure.histogram(im, source_range='dtype')\r\n",
    "# plt.plot(bins, img_hist / img_hist.max())\r\n",
    "# plt.xlim([0,1])\r\n",
    "# plt.show()\r\n",
    "# print(im.max())\r\n",
    "# print(im.min())"
   ],
   "outputs": [
    {
     "output_type": "stream",
     "name": "stdout",
     "text": [
      "(250, 250, 250)\n",
      "1.7177463930151935\n",
      "1.1175056777918293\n",
      "[1.11750568 1.17752975 1.23755382 1.29757789 1.35760196 1.41762604\n",
      " 1.47765011 1.53767418 1.59769825 1.65772232 1.71774639]\n",
      "[     58     168    2979 6378034 9181401   60596    1554     165      40\n",
      "       5]\n",
      "9181401\n",
      "1.357601963881175\n",
      "1.7177463930151935\n",
      "1.1175056777918293\n",
      "1.39\n"
     ]
    }
   ],
   "metadata": {}
  },
  {
   "cell_type": "code",
   "execution_count": 351,
   "source": [
    "data3d=im.copy()\r\n",
    "\r\n",
    "print(data3d.max())\r\n",
    "print(data3d.min())\r\n",
    "th2 = bins[np.argmax(img_hist)+1]\r\n",
    "print(th2)\r\n",
    "data3d[data3d < th2] = -data3d[data3d < th2]\r\n",
    "print(data3d.max())\r\n",
    "print(data3d.min())\r\n",
    "# data = -data\r\n",
    "\r\n",
    "with np.errstate(divide = 'ignore'):\r\n",
    "    s2 = np.log(fn.clip_array(-data3d, 0, -data3d.min())**2)\r\n",
    "    s1 = np.log(fn.clip_array(data3d, 0, data3d.max())**2)\r\n",
    "\r\n",
    "d2 = np.empty(data3d.shape + (4,), dtype=np.ubyte)\r\n",
    "d2[..., 0] = s1 * (255/s1.max())\r\n",
    "d2[..., 1] = s2 * (255/s2.max())\r\n",
    "d2[..., 2] = d2[..., 0]\r\n",
    "d2[..., 3] = d2[..., 0]*0.5+d2[..., 1]*0.3\r\n",
    "d2[..., 3] = (d2[..., 3].astype(float) / 255.) **2 * 150\r\n",
    "\r\n",
    "print(d2.max())\r\n",
    "print(d2.min())\r\n",
    "\r\n",
    "np.save(\"data3d.npy\", d2)"
   ],
   "outputs": [
    {
     "output_type": "stream",
     "name": "stdout",
     "text": [
      "1.7177463930151935\n",
      "0.0\n",
      "1.4176260354035115\n",
      "1.7177463930151935\n",
      "-1.4176255728077634\n",
      "255\n",
      "0\n"
     ]
    }
   ],
   "metadata": {}
  },
  {
   "cell_type": "code",
   "execution_count": 311,
   "source": [
    "# data3d=data.copy()*1.516700029373169\r\n",
    "data3d=data.copy()\r\n",
    "\r\n",
    "print(data3d.max())\r\n",
    "# data = -data\r\n",
    "\r\n",
    "with np.errstate(divide = 'ignore'):\r\n",
    "    s1 = np.log(fn.clip_array(data3d, 0, data3d.max()/4)**2)\r\n",
    "    s2 = np.log(fn.clip_array(data3d, data3d.max()/4, data3d.max()/2)**2)\r\n",
    "    s3 = np.log(fn.clip_array(data3d, data3d.max()/2, data3d.max())**2)\r\n",
    "\r\n",
    "d2 = np.empty(data3d.shape + (4,), dtype=np.ubyte)\r\n",
    "d2[..., 0] = s1 * (255/s1.max())\r\n",
    "d2[..., 1] = s2 * (255/s2.max())\r\n",
    "d2[..., 2] = s3 * (255/s3.max())\r\n",
    "d2[..., 3] = d2[..., 0]*0.3\r\n",
    "d2[..., 3] = (d2[..., 3].astype(float) / 255.) **2 * 100\r\n",
    "\r\n",
    "print(d2.max())\r\n",
    "print(d2.min())\r\n",
    "\r\n",
    "np.save(\"data3d.npy\", d2)"
   ],
   "outputs": [
    {
     "output_type": "stream",
     "name": "stdout",
     "text": [
      "1.7177463930151935\n",
      "255\n",
      "8\n"
     ]
    }
   ],
   "metadata": {}
  },
  {
   "cell_type": "code",
   "execution_count": 60,
   "source": [],
   "outputs": [],
   "metadata": {}
  },
  {
   "cell_type": "code",
   "execution_count": null,
   "source": [],
   "outputs": [],
   "metadata": {}
  }
 ],
 "metadata": {
  "orig_nbformat": 4,
  "language_info": {
   "name": "python",
   "version": "3.7.10",
   "mimetype": "text/x-python",
   "codemirror_mode": {
    "name": "ipython",
    "version": 3
   },
   "pygments_lexer": "ipython3",
   "nbconvert_exporter": "python",
   "file_extension": ".py"
  },
  "kernelspec": {
   "name": "python3",
   "display_name": "Python 3.7.10 64-bit ('dht': conda)"
  },
  "interpreter": {
   "hash": "931df0d254fee4a09fe7953bde12a8fea4a6a755f1633ccd4d47c0799c7a9e99"
  }
 },
 "nbformat": 4,
 "nbformat_minor": 2
}